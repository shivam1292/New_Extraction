{
 "cells": [
  {
   "cell_type": "code",
   "execution_count": 1,
   "id": "2c893f11",
   "metadata": {},
   "outputs": [
    {
     "name": "stdout",
     "output_type": "stream",
     "text": [
      "Requirement already satisfied: fastapi in c:\\users\\shivam\\anaconda3\\lib\\site-packages (0.115.11)\n",
      "Requirement already satisfied: uvicorn in c:\\users\\shivam\\anaconda3\\lib\\site-packages (0.34.0)\n",
      "Requirement already satisfied: nest-asyncio in c:\\users\\shivam\\anaconda3\\lib\\site-packages (1.5.5)\n",
      "Requirement already satisfied: pydantic!=1.8,!=1.8.1,!=2.0.0,!=2.0.1,!=2.1.0,<3.0.0,>=1.7.4 in c:\\users\\shivam\\anaconda3\\lib\\site-packages (from fastapi) (2.10.6)\n",
      "Requirement already satisfied: typing-extensions>=4.8.0 in c:\\users\\shivam\\anaconda3\\lib\\site-packages (from fastapi) (4.12.2)\n",
      "Requirement already satisfied: starlette<0.47.0,>=0.40.0 in c:\\users\\shivam\\anaconda3\\lib\\site-packages (from fastapi) (0.46.1)\n",
      "Requirement already satisfied: h11>=0.8 in c:\\users\\shivam\\anaconda3\\lib\\site-packages (from uvicorn) (0.14.0)\n",
      "Requirement already satisfied: click>=7.0 in c:\\users\\shivam\\anaconda3\\lib\\site-packages (from uvicorn) (8.0.4)\n",
      "Requirement already satisfied: colorama in c:\\users\\shivam\\anaconda3\\lib\\site-packages (from click>=7.0->uvicorn) (0.4.4)\n",
      "Requirement already satisfied: annotated-types>=0.6.0 in c:\\users\\shivam\\anaconda3\\lib\\site-packages (from pydantic!=1.8,!=1.8.1,!=2.0.0,!=2.0.1,!=2.1.0,<3.0.0,>=1.7.4->fastapi) (0.7.0)\n",
      "Requirement already satisfied: pydantic-core==2.27.2 in c:\\users\\shivam\\anaconda3\\lib\\site-packages (from pydantic!=1.8,!=1.8.1,!=2.0.0,!=2.0.1,!=2.1.0,<3.0.0,>=1.7.4->fastapi) (2.27.2)\n",
      "Requirement already satisfied: anyio<5,>=3.6.2 in c:\\users\\shivam\\anaconda3\\lib\\site-packages (from starlette<0.47.0,>=0.40.0->fastapi) (4.9.0)\n",
      "Requirement already satisfied: exceptiongroup>=1.0.2 in c:\\users\\shivam\\anaconda3\\lib\\site-packages (from anyio<5,>=3.6.2->starlette<0.47.0,>=0.40.0->fastapi) (1.2.2)\n",
      "Requirement already satisfied: sniffio>=1.1 in c:\\users\\shivam\\anaconda3\\lib\\site-packages (from anyio<5,>=3.6.2->starlette<0.47.0,>=0.40.0->fastapi) (1.2.0)\n",
      "Requirement already satisfied: idna>=2.8 in c:\\users\\shivam\\anaconda3\\lib\\site-packages (from anyio<5,>=3.6.2->starlette<0.47.0,>=0.40.0->fastapi) (3.3)\n"
     ]
    }
   ],
   "source": [
    "!pip install fastapi uvicorn nest-asyncio"
   ]
  },
  {
   "cell_type": "code",
   "execution_count": 1,
   "id": "937c714a",
   "metadata": {},
   "outputs": [
    {
     "name": "stdout",
     "output_type": "stream",
     "text": [
      "✅ FastAPI server started at http://127.0.0.1:8080 🚀\n"
     ]
    },
    {
     "name": "stderr",
     "output_type": "stream",
     "text": [
      "INFO:     Started server process [11532]\n",
      "INFO:     Waiting for application startup.\n",
      "INFO:     Application startup complete.\n",
      "INFO:     Uvicorn running on http://127.0.0.1:8080 (Press CTRL+C to quit)\n"
     ]
    },
    {
     "name": "stdout",
     "output_type": "stream",
     "text": [
      "INFO:     127.0.0.1:56257 - \"GET / HTTP/1.1\" 200 OK\n",
      "INFO:     127.0.0.1:56257 - \"GET /favicon.ico HTTP/1.1\" 404 Not Found\n"
     ]
    }
   ],
   "source": [
    "import uvicorn\n",
    "import threading\n",
    "from fastapi import FastAPI\n",
    "from pydantic import BaseModel\n",
    "import nest_asyncio\n",
    "\n",
    "# FastAPI app setup\n",
    "app = FastAPI()\n",
    "\n",
    "class NewsRequest(BaseModel):\n",
    "    company: str\n",
    "\n",
    "@app.get(\"/\")\n",
    "def home():\n",
    "    return {\"message\": \"API is running on localhost!\"}\n",
    "\n",
    "@app.post(\"/extract-news\")\n",
    "def extract_news(request: NewsRequest):\n",
    "    return {\"company\": request.company, \"news\": f\"News extracted for {request.company}\"}\n",
    "\n",
    "# Jupyter compatibility fix\n",
    "nest_asyncio.apply()\n",
    "\n",
    "def run_api():\n",
    "    uvicorn.run(app, host=\"127.0.0.1\", port=8080)\n",
    "\n",
    "# ✅ API ko background thread me start karna\n",
    "api_thread = threading.Thread(target=run_api, daemon=True)\n",
    "api_thread.start()\n",
    "\n",
    "print(\"✅ FastAPI server started at http://127.0.0.1:8080 🚀\")\n"
   ]
  },
  {
   "cell_type": "code",
   "execution_count": 3,
   "id": "d377a427",
   "metadata": {},
   "outputs": [
    {
     "name": "stderr",
     "output_type": "stream",
     "text": [
      "INFO:     Started server process [4340]\n",
      "INFO:     Waiting for application startup.\n",
      "INFO:     Application startup complete.\n",
      "INFO:     Uvicorn running on http://127.0.0.1:8080 (Press CTRL+C to quit)\n"
     ]
    },
    {
     "name": "stdout",
     "output_type": "stream",
     "text": [
      "INFO:     127.0.0.1:55861 - \"POST /extract-news HTTP/1.1\" 200 OK\n",
      "📢 API Response: {'company': 'Tesla', 'news': 'News extracted for Tesla'}\n"
     ]
    }
   ],
   "source": [
    "import requests\n",
    "\n",
    "url = \"http://127.0.0.1:8080/extract-news\"\n",
    "data = {\"company\": \"Tesla\"}\n",
    "response = requests.post(url, json=data)\n",
    "\n",
    "print(\"📢 API Response:\", response.json()) "
   ]
  },
  {
   "cell_type": "code",
   "execution_count": null,
   "id": "d179b021",
   "metadata": {},
   "outputs": [],
   "source": [
    "import os\n",
    "os._exit(00)"
   ]
  },
  {
   "cell_type": "code",
   "execution_count": null,
   "id": "83271db3",
   "metadata": {},
   "outputs": [],
   "source": []
  }
 ],
 "metadata": {
  "kernelspec": {
   "display_name": "Python 3 (ipykernel)",
   "language": "python",
   "name": "python3"
  },
  "language_info": {
   "codemirror_mode": {
    "name": "ipython",
    "version": 3
   },
   "file_extension": ".py",
   "mimetype": "text/x-python",
   "name": "python",
   "nbconvert_exporter": "python",
   "pygments_lexer": "ipython3",
   "version": "3.9.12"
  }
 },
 "nbformat": 4,
 "nbformat_minor": 5
}
